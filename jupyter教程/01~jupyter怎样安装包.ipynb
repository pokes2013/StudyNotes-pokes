{
 "cells": [
  {
   "cell_type": "markdown",
   "id": "75b70258-8939-4dba-8883-6ed54fc17ddf",
   "metadata": {},
   "source": [
    "## jupyter怎样安装包"
   ]
  },
  {
   "cell_type": "markdown",
   "id": "1d1d99fa-00b2-4079-9279-2e648166307a",
   "metadata": {},
   "source": [
    "‌使用pip命令安装包‌：\n",
    "\n",
    "在代码单元格中，使用!pip install 包名命令来安装你需要的Python包。\n",
    "\n",
    "例如，如果你想安装一个名为pandas的包，你可以输入`!pip install pandas`。"
   ]
  },
  {
   "cell_type": "code",
   "execution_count": 2,
   "id": "4b1e022d-2dfa-480a-8e13-b9773cee8e87",
   "metadata": {},
   "outputs": [
    {
     "name": "stdout",
     "output_type": "stream",
     "text": [
      "Looking in indexes: https://pypi.tuna.tsinghua.edu.cn/simple\n",
      "Collecting pandas\n",
      "  Downloading https://pypi.tuna.tsinghua.edu.cn/packages/47/17/5c4b04caa8fe1dca2aa940dcc00319aa77c84fbdb71f83869a0900cac660/pandas-1.1.5-cp37-cp37m-win_amd64.whl (8.7 MB)\n",
      "     ---------------------------------------- 0.0/8.7 MB ? eta -:--:--\n",
      "      --------------------------------------- 0.1/8.7 MB 6.4 MB/s eta 0:00:02\n",
      "     -- ------------------------------------- 0.6/8.7 MB 7.6 MB/s eta 0:00:02\n",
      "     -- ------------------------------------- 0.6/8.7 MB 4.8 MB/s eta 0:00:02\n",
      "     --- ------------------------------------ 0.7/8.7 MB 4.2 MB/s eta 0:00:02\n",
      "     ----- ---------------------------------- 1.2/8.7 MB 5.1 MB/s eta 0:00:02\n",
      "     ------ --------------------------------- 1.5/8.7 MB 5.1 MB/s eta 0:00:02\n",
      "     ------ --------------------------------- 1.5/8.7 MB 5.2 MB/s eta 0:00:02\n",
      "     --------- ------------------------------ 2.0/8.7 MB 5.4 MB/s eta 0:00:02\n",
      "     ---------- ----------------------------- 2.2/8.7 MB 5.6 MB/s eta 0:00:02\n",
      "     ---------- ----------------------------- 2.3/8.7 MB 5.0 MB/s eta 0:00:02\n",
      "     ----------- ---------------------------- 2.6/8.7 MB 5.1 MB/s eta 0:00:02\n",
      "     ----------- ---------------------------- 2.6/8.7 MB 5.1 MB/s eta 0:00:02\n",
      "     --------------- ------------------------ 3.3/8.7 MB 5.4 MB/s eta 0:00:02\n",
      "     ---------------- ----------------------- 3.6/8.7 MB 5.3 MB/s eta 0:00:01\n",
      "     ---------------- ----------------------- 3.6/8.7 MB 5.3 MB/s eta 0:00:01\n",
      "     ------------------- -------------------- 4.2/8.7 MB 5.6 MB/s eta 0:00:01\n",
      "     -------------------- ------------------- 4.4/8.7 MB 5.5 MB/s eta 0:00:01\n",
      "     ---------------------- ----------------- 5.0/8.7 MB 5.8 MB/s eta 0:00:01\n",
      "     ----------------------- ---------------- 5.2/8.7 MB 5.6 MB/s eta 0:00:01\n",
      "     ----------------------- ---------------- 5.2/8.7 MB 5.6 MB/s eta 0:00:01\n",
      "     -------------------------- ------------- 5.8/8.7 MB 5.8 MB/s eta 0:00:01\n",
      "     ---------------------------- ----------- 6.2/8.7 MB 5.9 MB/s eta 0:00:01\n",
      "     ---------------------------- ----------- 6.3/8.7 MB 5.8 MB/s eta 0:00:01\n",
      "     -------------------------------- ------- 7.1/8.7 MB 6.2 MB/s eta 0:00:01\n",
      "     --------------------------------- ------ 7.2/8.7 MB 6.1 MB/s eta 0:00:01\n",
      "     --------------------------------- ------ 7.2/8.7 MB 5.8 MB/s eta 0:00:01\n",
      "     ------------------------------------ --- 8.1/8.7 MB 6.4 MB/s eta 0:00:01\n",
      "     ------------------------------------- -- 8.1/8.7 MB 6.2 MB/s eta 0:00:01\n",
      "     ---------------------------------------  8.7/8.7 MB 6.4 MB/s eta 0:00:01\n",
      "     ---------------------------------------  8.7/8.7 MB 6.4 MB/s eta 0:00:01\n",
      "     ---------------------------------------- 8.7/8.7 MB 6.0 MB/s eta 0:00:00\n",
      "Collecting python-dateutil>=2.7.3 (from pandas)\n",
      "  Using cached https://pypi.tuna.tsinghua.edu.cn/packages/ec/57/56b9bcc3c9c6a792fcbaf139543cee77261f3651ca9da0c93f5c1221264b/python_dateutil-2.9.0.post0-py2.py3-none-any.whl (229 kB)\n",
      "Collecting pytz>=2017.2 (from pandas)\n",
      "  Downloading https://pypi.tuna.tsinghua.edu.cn/packages/9c/3d/a121f284241f08268b21359bd425f7d4825cffc5ac5cd0e1b3d82ffd2b10/pytz-2024.1-py2.py3-none-any.whl (505 kB)\n",
      "     ---------------------------------------- 0.0/505.5 kB ? eta -:--:--\n",
      "     ------------------------------- ------ 419.8/505.5 kB 8.7 MB/s eta 0:00:01\n",
      "     -------------------------------------- 505.5/505.5 kB 8.0 MB/s eta 0:00:00\n",
      "Requirement already satisfied: numpy>=1.15.4 in c:\\app\\python37\\lib\\site-packages (from pandas) (1.21.6)\n",
      "Collecting six>=1.5 (from python-dateutil>=2.7.3->pandas)\n",
      "  Using cached https://pypi.tuna.tsinghua.edu.cn/packages/d9/5a/e7c31adbe875f2abbb91bd84cf2dc52d792b5a01506781dbcf25c91daf11/six-1.16.0-py2.py3-none-any.whl (11 kB)\n",
      "Installing collected packages: pytz, six, python-dateutil, pandas\n",
      "Successfully installed pandas-1.1.5 python-dateutil-2.9.0.post0 pytz-2024.1 six-1.16.0\n"
     ]
    }
   ],
   "source": [
    "!pip install pandas"
   ]
  },
  {
   "cell_type": "code",
   "execution_count": null,
   "id": "6fd8911c-f71b-4588-ab75-88ca221c3f37",
   "metadata": {},
   "outputs": [],
   "source": []
  }
 ],
 "metadata": {
  "kernelspec": {
   "display_name": "Python 3 (ipykernel)",
   "language": "python",
   "name": "python3"
  },
  "language_info": {
   "codemirror_mode": {
    "name": "ipython",
    "version": 3
   },
   "file_extension": ".py",
   "mimetype": "text/x-python",
   "name": "python",
   "nbconvert_exporter": "python",
   "pygments_lexer": "ipython3",
   "version": "3.9.19"
  }
 },
 "nbformat": 4,
 "nbformat_minor": 5
}
