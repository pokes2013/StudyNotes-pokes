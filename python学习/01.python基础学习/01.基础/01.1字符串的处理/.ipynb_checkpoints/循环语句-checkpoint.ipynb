{
 "cells": [
  {
   "cell_type": "markdown",
   "id": "af64638c",
   "metadata": {},
   "source": [
    "## while循环"
   ]
  },
  {
   "cell_type": "markdown",
   "id": "2e7cd0e8",
   "metadata": {},
   "source": [
    "实例：打印1-5的数字？"
   ]
  },
  {
   "cell_type": "code",
   "execution_count": 6,
   "id": "cc834064",
   "metadata": {},
   "outputs": [
    {
     "name": "stdout",
     "output_type": "stream",
     "text": [
      "1\n",
      "2\n",
      "3\n",
      "4\n",
      "5\n"
     ]
    }
   ],
   "source": [
    "a=1\n",
    "while a<=5:\n",
    "    print(a)\n",
    "    a=a+1"
   ]
  },
  {
   "cell_type": "markdown",
   "id": "a7a3e344",
   "metadata": {},
   "source": [
    "## for循环\n",
    "\n",
    "打印出1-9每个数字，（1,10）包前不包后1-9，不包含10"
   ]
  },
  {
   "cell_type": "code",
   "execution_count": 7,
   "id": "d55b58d3",
   "metadata": {
    "scrolled": true
   },
   "outputs": [
    {
     "name": "stdout",
     "output_type": "stream",
     "text": [
      "1\n",
      "2\n",
      "3\n",
      "4\n",
      "5\n",
      "6\n",
      "7\n",
      "8\n",
      "9\n"
     ]
    }
   ],
   "source": [
    "for i in range(1,10):\n",
    "    print(i)"
   ]
  },
  {
   "cell_type": "markdown",
   "id": "64903c8d",
   "metadata": {},
   "source": [
    "依次打印出python每个字母"
   ]
  },
  {
   "cell_type": "code",
   "execution_count": 8,
   "id": "511d7e70",
   "metadata": {},
   "outputs": [
    {
     "name": "stdout",
     "output_type": "stream",
     "text": [
      "p\n",
      "y\n",
      "t\n",
      "h\n",
      "o\n",
      "n\n"
     ]
    }
   ],
   "source": [
    "for ch in 'python':\n",
    "    print(ch)"
   ]
  }
 ],
 "metadata": {
  "kernelspec": {
   "display_name": "Python 3 (ipykernel)",
   "language": "python",
   "name": "python3"
  },
  "language_info": {
   "codemirror_mode": {
    "name": "ipython",
    "version": 3
   },
   "file_extension": ".py",
   "mimetype": "text/x-python",
   "name": "python",
   "nbconvert_exporter": "python",
   "pygments_lexer": "ipython3",
   "version": "3.7.7"
  }
 },
 "nbformat": 4,
 "nbformat_minor": 5
}
