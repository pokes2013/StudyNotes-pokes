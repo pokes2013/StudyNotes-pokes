{
 "cells": [
  {
   "cell_type": "markdown",
   "id": "e6bc9175",
   "metadata": {},
   "source": [
    "## 1.字符串内置方法~大小写"
   ]
  },
  {
   "cell_type": "markdown",
   "id": "978a9c5e",
   "metadata": {},
   "source": [
    "## capitalize将字符串得第一个字符转换成大写"
   ]
  },
  {
   "cell_type": "code",
   "execution_count": 8,
   "id": "7fa8c0e5",
   "metadata": {},
   "outputs": [
    {
     "name": "stdout",
     "output_type": "stream",
     "text": [
      "Zhaorui is a beautiful girl!\n"
     ]
    }
   ],
   "source": [
    "message = 'zhaorui iS a beautiful girl!'\n",
    "msg = message.capitalize()   \n",
    "print(msg)"
   ]
  },
  {
   "cell_type": "markdown",
   "id": "fb58159e",
   "metadata": {},
   "source": [
    "## title每个单词得首字母大写"
   ]
  },
  {
   "cell_type": "code",
   "execution_count": 9,
   "id": "411f549c",
   "metadata": {},
   "outputs": [
    {
     "name": "stdout",
     "output_type": "stream",
     "text": [
      "Zhaorui Is A Beautiful Girl!\n"
     ]
    }
   ],
   "source": [
    "message = 'zhaorui iS a beautiful girl!'\n",
    "\n",
    "msg = message.title()\n",
    "print(msg)"
   ]
  },
  {
   "cell_type": "markdown",
   "id": "056af071",
   "metadata": {},
   "source": [
    "## istitle判断每个单词首字母是否大写"
   ]
  },
  {
   "cell_type": "code",
   "execution_count": 10,
   "id": "1dc22750",
   "metadata": {},
   "outputs": [
    {
     "name": "stdout",
     "output_type": "stream",
     "text": [
      "False\n"
     ]
    }
   ],
   "source": [
    "message = 'zhaorui iS a beautiful girl!'\n",
    "\n",
    "cmd = message.istitle() \n",
    "print(cmd)"
   ]
  },
  {
   "cell_type": "markdown",
   "id": "eddf24cf",
   "metadata": {},
   "source": [
    "## upper 全部转换成大写"
   ]
  },
  {
   "cell_type": "code",
   "execution_count": 11,
   "id": "225c2f48",
   "metadata": {},
   "outputs": [
    {
     "name": "stdout",
     "output_type": "stream",
     "text": [
      "ZHAORUI IS A BEAUTIFUL GIRL!\n"
     ]
    }
   ],
   "source": [
    "message = 'zhaorui iS a beautiful girl!'\n",
    "msg = message.upper()\n",
    "print(msg)"
   ]
  },
  {
   "cell_type": "markdown",
   "id": "df824d04",
   "metadata": {},
   "source": [
    "# lower 全部转换成小写"
   ]
  },
  {
   "cell_type": "code",
   "execution_count": 12,
   "id": "ec3319a8",
   "metadata": {},
   "outputs": [
    {
     "name": "stdout",
     "output_type": "stream",
     "text": [
      "zhaorui is a beautiful girl!\n"
     ]
    }
   ],
   "source": [
    "message = 'zhaorui iS a beautiful girl!'\n",
    "\n",
    "msg = message.lower()\n",
    "print(msg)"
   ]
  },
  {
   "cell_type": "markdown",
   "id": "0f846eeb",
   "metadata": {},
   "source": [
    "## len计算字符串长度"
   ]
  },
  {
   "cell_type": "code",
   "execution_count": 13,
   "id": "0b4d93f1",
   "metadata": {},
   "outputs": [
    {
     "name": "stdout",
     "output_type": "stream",
     "text": [
      "28\n"
     ]
    }
   ],
   "source": [
    "message = 'zhaorui iS a beautiful girl!'\n",
    "print(len(msg))  "
   ]
  },
  {
   "cell_type": "markdown",
   "id": "c4ba9a48",
   "metadata": {},
   "source": [
    "## 2.字符串替换replace\n",
    "\n",
    "语法：变量.replace(“被替换的内容”，“替换后的内容”[，次数])"
   ]
  },
  {
   "cell_type": "markdown",
   "id": "6fe078e1",
   "metadata": {},
   "source": [
    "##删除符号"
   ]
  },
  {
   "cell_type": "code",
   "execution_count": 1,
   "id": "ea342790",
   "metadata": {},
   "outputs": [
    {
     "name": "stdout",
     "output_type": "stream",
     "text": [
      "212Python用replace()函数删除制定符号\n"
     ]
    }
   ],
   "source": [
    "str1 = \"212、Python用replace()函数删除制定  符号\"\n",
    "str2 = str1.replace('、', '')\n",
    "str3 = str2.replace(' ', '')\n",
    "print(str3)"
   ]
  },
  {
   "cell_type": "markdown",
   "id": "f1cd3d04",
   "metadata": {},
   "source": [
    "## 内容比较"
   ]
  },
  {
   "cell_type": "code",
   "execution_count": 15,
   "id": "4aa4add5",
   "metadata": {},
   "outputs": [
    {
     "name": "stdout",
     "output_type": "stream",
     "text": [
      "True\n",
      "True\n"
     ]
    }
   ],
   "source": [
    "s1='abc'\n",
    "s2=\"abc\"\n",
    "\n",
    "print(s1 == s2)\n",
    "print(s1 is s2)"
   ]
  },
  {
   "cell_type": "markdown",
   "id": "5957df15",
   "metadata": {},
   "source": [
    "## 3.字符串截取\n",
    "\n",
    "#Python 提供了很多截取字符串的方法，被称为“切片（slicing）”。字符串分割\n",
    "\n",
    "#语法：string[end: step]\n",
    "#start 头下标,开始,，以0开头\n",
    "#end 尾下标,结尾\n",
    "#step 步长"
   ]
  },
  {
   "cell_type": "code",
   "execution_count": 26,
   "id": "3322f7c6",
   "metadata": {},
   "outputs": [
    {
     "name": "stdout",
     "output_type": "stream",
     "text": [
      "pict\n",
      ".png\n",
      ".png\n",
      "gnp.erutcip\n"
     ]
    }
   ],
   "source": [
    "# 字符串截取\n",
    "\n",
    "filename = 'picture.png'\n",
    "\n",
    "# 类似range包前不包后\n",
    "print(filename[0:4])\n",
    "\n",
    "# 省略\n",
    "print(filename[7:])\n",
    "\n",
    "# 负数\n",
    "print(filename[-4:])\n",
    "\n",
    "#倒序\n",
    "print(filename[::-1])  # -1表示倒序"
   ]
  },
  {
   "cell_type": "markdown",
   "id": "9fbd21d0",
   "metadata": {},
   "source": [
    "下面是一些常用的举例："
   ]
  },
  {
   "cell_type": "code",
   "execution_count": 17,
   "id": "79abac9c",
   "metadata": {},
   "outputs": [
    {
     "name": "stdout",
     "output_type": "stream",
     "text": [
      "abc-123\n"
     ]
    }
   ],
   "source": [
    "str = \"abc-123-如果我是DJ你会爱我吗.mp4\"\n",
    "str = str[0:7]           #默认步长是1，可以不写\n",
    "print(str)"
   ]
  },
  {
   "cell_type": "code",
   "execution_count": 18,
   "id": "b2617e07",
   "metadata": {},
   "outputs": [
    {
     "name": "stdout",
     "output_type": "stream",
     "text": [
      "abc-123-如果我是DJ\n"
     ]
    }
   ],
   "source": [
    "str = \"abc-123-如果我是DJ你会爱我吗.mp4\"\n",
    "str = str[0:-9]           #负数是从右往左截取\n",
    "print(str)"
   ]
  },
  {
   "cell_type": "code",
   "execution_count": 19,
   "id": "5b95b8dd",
   "metadata": {},
   "outputs": [
    {
     "name": "stdout",
     "output_type": "stream",
     "text": [
      "如果我是DJ你会爱我吗.mp4\n"
     ]
    }
   ],
   "source": [
    "str = \"abc-123-如果我是DJ你会爱我吗.mp4\"\n",
    "str = str[8:]           #不写右边就是一直到结尾\n",
    "print(str)"
   ]
  },
  {
   "cell_type": "code",
   "execution_count": 20,
   "id": "9594fbd9",
   "metadata": {},
   "outputs": [
    {
     "name": "stdout",
     "output_type": "stream",
     "text": [
      "['abc', '123', '如果我是DJ你会爱我吗.mp4']\n"
     ]
    }
   ],
   "source": [
    "#分割符号截取 关键字split，有时候也叫列截取\n",
    "#语法格式：变量.split('分隔符',次数)\n",
    "str = \"abc-123-如果我是DJ你会爱我吗.mp4\"\n",
    "str = str.split('-')          #次数不写，则默认为最大次数\n",
    "print(str)"
   ]
  },
  {
   "cell_type": "markdown",
   "id": "3d4f448d",
   "metadata": {},
   "source": [
    "## 字符串查找find"
   ]
  },
  {
   "cell_type": "markdown",
   "id": "18b210ac",
   "metadata": {},
   "source": [
    "find方法检测字符串中是否包含子字符串str ，如果指定 beg（开始） 和 end（结束） 范围，则检查是否包含在指定范围内，如果指定范围内如果包含指定索引值，如果不包含索引值，返回-1。返回的是需要查找的字符串的下标\n",
    "#变量.find(“要查找的内容”，[开始位置，结束位置])"
   ]
  },
  {
   "cell_type": "code",
   "execution_count": 21,
   "id": "d95c3007",
   "metadata": {
    "scrolled": true
   },
   "outputs": [
    {
     "name": "stdout",
     "output_type": "stream",
     "text": [
      "12\n"
     ]
    }
   ],
   "source": [
    "str = \"abc-123-如果我是DJ你会爱我吗.mp4\"\n",
    "str = str.find('DJ')\n",
    "print(str)                    ##返回的是需要查找的字符串的下标,不包含则返回-1"
   ]
  },
  {
   "cell_type": "markdown",
   "id": "8a038a1f",
   "metadata": {},
   "source": [
    "## 字符串处理-高级用法.py\n",
    "\n",
    "详情参考：https://blog.csdn.net/csdn15698845876/article/details/73469234"
   ]
  },
  {
   "cell_type": "code",
   "execution_count": 27,
   "id": "d80248ce",
   "metadata": {},
   "outputs": [
    {
     "name": "stdout",
     "output_type": "stream",
     "text": [
      "pokes$@163&.com\n"
     ]
    }
   ],
   "source": [
    "s = \"   %pokes$@163&.com*   \"\n",
    "ss = s.strip().strip(\"%\").lstrip('$').rstrip().rstrip('*')\n",
    "print(ss)"
   ]
  },
  {
   "cell_type": "code",
   "execution_count": 23,
   "id": "a5b59217",
   "metadata": {},
   "outputs": [
    {
     "name": "stdout",
     "output_type": "stream",
     "text": [
      "pokes@.comkkkkk\n"
     ]
    }
   ],
   "source": [
    "#替换多个字符串.py\n",
    "\n",
    "def zifu(str, x, y, z):\n",
    "    strin = str.replace(x, '').replace(y, '').replace(z, '')\n",
    "    print(strin)\n",
    "\n",
    "\n",
    "zifu(\"pokes，@163.com,kkkkk\", \"，\", \",\", \"163\")"
   ]
  },
  {
   "cell_type": "code",
   "execution_count": 29,
   "id": "cfd3a514",
   "metadata": {},
   "outputs": [
    {
     "name": "stdout",
     "output_type": "stream",
     "text": [
      "包含了：韩国\n",
      "包含了：老姐\n",
      "包含了：朋友\n",
      "包含了：2016\n"
     ]
    }
   ],
   "source": [
    "#检测包含\n",
    "\n",
    "def baohan(str, bh01, bh02, bh03, bh04):\n",
    "\n",
    "    if (bh01 in str) == True:\n",
    "        print(\"包含了：\" + bh01)\n",
    "\n",
    "\n",
    "    if (bh02 in str) == True:\n",
    "        print(\"包含了：\" + bh02)\n",
    "    else:\n",
    "        print(\"不包含了：\" + bh02)\n",
    "\n",
    "    if (bh03 in str) == True:\n",
    "        print(\"包含了：\" + bh03)\n",
    "\n",
    "    if (bh04 in str) == True:\n",
    "        print(\"包含了：\" + bh04)\n",
    "\n",
    "\n",
    "baohan(\"[韩国][我朋友的老姐].2016.Uncut.720p.HDRip.H264-ob.mp4\", \"韩国\", \"老姐\", \"朋友\", \"2016\")"
   ]
  },
  {
   "cell_type": "code",
   "execution_count": 28,
   "id": "4d0b9084",
   "metadata": {
    "collapsed": true,
    "jupyter": {
     "outputs_hidden": true
    }
   },
   "outputs": [
    {
     "ename": "ModuleNotFoundError",
     "evalue": "No module named 'txdpy'",
     "output_type": "error",
     "traceback": [
      "\u001b[1;31m---------------------------------------------------------------------------\u001b[0m",
      "\u001b[1;31mModuleNotFoundError\u001b[0m                       Traceback (most recent call last)",
      "\u001b[1;32m~\\AppData\\Local\\Temp\\ipykernel_9224\\2674335854.py\u001b[0m in \u001b[0;36m<module>\u001b[1;34m\u001b[0m\n\u001b[0;32m      2\u001b[0m \u001b[1;33m\u001b[0m\u001b[0m\n\u001b[0;32m      3\u001b[0m \u001b[1;33m\u001b[0m\u001b[0m\n\u001b[1;32m----> 4\u001b[1;33m \u001b[1;32mimport\u001b[0m \u001b[0mtxdpy\u001b[0m\u001b[1;33m\u001b[0m\u001b[1;33m\u001b[0m\u001b[0m\n\u001b[0m\u001b[0;32m      5\u001b[0m \u001b[1;33m\u001b[0m\u001b[0m\n\u001b[0;32m      6\u001b[0m \u001b[1;31m# isdigit函数判断\u001b[0m\u001b[1;33m\u001b[0m\u001b[1;33m\u001b[0m\u001b[1;33m\u001b[0m\u001b[0m\n",
      "\u001b[1;31mModuleNotFoundError\u001b[0m: No module named 'txdpy'"
     ]
    }
   ],
   "source": [
    "#判断字符串是数字还是字母\n",
    "\n",
    "\n",
    "# isdigit函数判断\n",
    "\n",
    "#\n",
    "str_1 = \"123\"\n",
    "str_2 = \"Abc\"\n",
    "str_3 = \"123Abc\"\n",
    "\n",
    "print(str_1.isdigit())\n",
    "print(str_2.isdigit())\n",
    "print(str_3.isdigit())\n",
    "\n",
    "\n",
    "from txdpy import is_num, is_chinese, is_letter, is_Bletter, is_Sletter, is_num_letter\n",
    "\n",
    "s1 = 's1'\n",
    "s2 = 'ss'\n",
    "s3 = 's三'\n",
    "s4 = 'SSSS'\n",
    "s5 = '测试'\n",
    "s6 = '6666'\n",
    "s7 = '测试777'\n",
    "\n",
    "# 是否为纯数字\n",
    "print(is_num(s6))\n",
    "print(is_num(s7))\n",
    "# 是否为纯汉字\n",
    "print(is_chinese(s5))\n",
    "print(is_chinese(s7))\n",
    "# 是否为纯字母\n",
    "print(is_letter(s1))\n",
    "print(is_letter(s2))\n",
    "# 是否为纯大写字母\n",
    "print(is_Bletter(s4))\n",
    "print(is_Bletter(s2))\n",
    "# 是否为纯小写字母\n",
    "print(is_Sletter(s4))\n",
    "print(is_Sletter(s2))\n",
    "# 是否为只包含 字母 或 数字 或 数字和字母\n",
    "print(is_num_letter(s1))\n",
    "print(is_num_letter(s4))\n"
   ]
  },
  {
   "cell_type": "markdown",
   "id": "c597bfec",
   "metadata": {},
   "source": [
    "## 正则表达式"
   ]
  },
  {
   "cell_type": "code",
   "execution_count": null,
   "id": "050dc819",
   "metadata": {},
   "outputs": [],
   "source": [
    "# 数字：\\u0030-\\u0039\n",
    "# 汉字：\\u4e00-\\u9fa5\n",
    "# 大写字母：\\u0041-\\u005a\n",
    "# 小写字母：\\u0061-\\u007a\n",
    "# 英文字母：\\u0041-\\u007a\n",
    "# 注：更多的编码范围可参考另博主的整理：\n",
    "# https://blog.csdn.net/weixin_34206263/article/details/112031865\n",
    "\n",
    "\n",
    "\n",
    "# 只保留汉字\n",
    "import re\n",
    "\n",
    "str1 = \" 12312313Python用replace()函数删除制定  符号  \"\n",
    "str2 = re.sub('([^\\u4e00-\\u9fa5])', '', str1)\n",
    "print(str2)              # \"用函数删除制定符号\"\n",
    "\n",
    "\n",
    "# 只保留字符串中的汉字和数字\n",
    "\n",
    "str3 = re.sub('([^\\u4e00-\\u9fa5\\u0030-\\u0039])', '', str1)\n",
    "print(str3)     # \"212用函数删除制定符号\""
   ]
  }
 ],
 "metadata": {
  "celltoolbar": "原始单元格格式",
  "kernelspec": {
   "display_name": "Python 3 (ipykernel)",
   "language": "python",
   "name": "python3"
  },
  "language_info": {
   "codemirror_mode": {
    "name": "ipython",
    "version": 3
   },
   "file_extension": ".py",
   "mimetype": "text/x-python",
   "name": "python",
   "nbconvert_exporter": "python",
   "pygments_lexer": "ipython3",
   "version": "3.12.3"
  }
 },
 "nbformat": 4,
 "nbformat_minor": 5
}
