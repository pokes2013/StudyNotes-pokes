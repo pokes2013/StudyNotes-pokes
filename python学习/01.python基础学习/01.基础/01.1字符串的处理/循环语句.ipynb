{
 "cells": [
  {
   "cell_type": "markdown",
   "id": "af64638c",
   "metadata": {},
   "source": [
    "## while循环"
   ]
  },
  {
   "cell_type": "markdown",
   "id": "2e7cd0e8",
   "metadata": {},
   "source": [
    "实例：打印1-5的数字？"
   ]
  },
  {
   "cell_type": "code",
   "execution_count": 1,
   "id": "cc834064",
   "metadata": {},
   "outputs": [
    {
     "name": "stdout",
     "output_type": "stream",
     "text": [
      "1\n",
      "2\n",
      "3\n",
      "4\n",
      "5\n"
     ]
    }
   ],
   "source": [
    "a=1\n",
    "while a<=5:\n",
    "    print(a)\n",
    "    a=a+1"
   ]
  },
  {
   "cell_type": "markdown",
   "id": "a7a3e344",
   "metadata": {},
   "source": [
    "## for循环\n",
    "\n",
    "打印出1-9每个数字，（1,10）包前不包后1-9，不包含10"
   ]
  },
  {
   "cell_type": "code",
   "execution_count": 2,
   "id": "d55b58d3",
   "metadata": {
    "scrolled": true
   },
   "outputs": [
    {
     "name": "stdout",
     "output_type": "stream",
     "text": [
      "1\n",
      "2\n",
      "3\n",
      "4\n",
      "5\n",
      "6\n",
      "7\n",
      "8\n",
      "9\n"
     ]
    }
   ],
   "source": [
    "for i in range(1,10):\n",
    "    print(i)"
   ]
  },
  {
   "cell_type": "markdown",
   "id": "64903c8d",
   "metadata": {},
   "source": [
    "依次打印出python每个字母"
   ]
  },
  {
   "cell_type": "code",
   "execution_count": 3,
   "id": "511d7e70",
   "metadata": {
    "scrolled": true
   },
   "outputs": [
    {
     "name": "stdout",
     "output_type": "stream",
     "text": [
      "p\n",
      "y\n",
      "t\n",
      "h\n",
      "o\n",
      "n\n"
     ]
    }
   ],
   "source": [
    "for ch in 'python':\n",
    "    print(ch)"
   ]
  },
  {
   "cell_type": "markdown",
   "id": "684e9acb",
   "metadata": {},
   "source": [
    "## break与continue的区别"
   ]
  },
  {
   "cell_type": "markdown",
   "id": "d197463f",
   "metadata": {},
   "source": [
    "详情可查看：https://blog.csdn.net/qq_48374573/article/details/117231318\n",
    "- break用于跳出一个循环体或者完全结束一个循环，不仅可以结束其所在的循环，还可结束其外层循环。\n",
    "- continue语句的作用是跳过本次循环体中剩下尚未执行的语句，立即进行下一次的循环条件判定，可以理解为只是中止(跳过)本次循环，接着开始下一次循环。"
   ]
  },
  {
   "cell_type": "code",
   "execution_count": null,
   "id": "e3fce383",
   "metadata": {},
   "outputs": [
    {
     "name": "stdin",
     "output_type": "stream",
     "text": [
      "你的腿怎么样？还能坚持吗？ 1\n"
     ]
    },
    {
     "name": "stdout",
     "output_type": "stream",
     "text": [
      "不能，退赛\n",
      "-----------------------------\n"
     ]
    },
    {
     "name": "stdin",
     "output_type": "stream",
     "text": [
      "能跑吗？ y\n",
      "能跑吗？ y\n",
      "能跑吗？ y\n"
     ]
    }
   ],
   "source": [
    "while True:    #True无条件放行\n",
    "    answer=input('你的腿怎么样？还能坚持吗？')\n",
    "    if answer=='y':\n",
    "        print('加油')\n",
    "    else:\n",
    "        print('不能，退赛')\n",
    "        break                    #终止\n",
    "\n",
    "\n",
    "\n",
    "print('-----------------------------')\n",
    "\n",
    "circle=0\n",
    "for i in range(1,11):\n",
    "    answer=input('能跑吗？')\n",
    "    if answer!='y':               #取反，不等于y\n",
    "        continue                  #continue语句只结束本次循环,而不是终止整个循环的执行\n",
    "    circle+=1\n",
    "print('一共跑了',circle,'圈')"
   ]
  },
  {
   "cell_type": "code",
   "execution_count": null,
   "id": "0f5961f5",
   "metadata": {},
   "outputs": [],
   "source": []
  }
 ],
 "metadata": {
  "kernelspec": {
   "display_name": "Python 3 (ipykernel)",
   "language": "python",
   "name": "python3"
  },
  "language_info": {
   "codemirror_mode": {
    "name": "ipython",
    "version": 3
   },
   "file_extension": ".py",
   "mimetype": "text/x-python",
   "name": "python",
   "nbconvert_exporter": "python",
   "pygments_lexer": "ipython3",
   "version": "3.9.19"
  }
 },
 "nbformat": 4,
 "nbformat_minor": 5
}
