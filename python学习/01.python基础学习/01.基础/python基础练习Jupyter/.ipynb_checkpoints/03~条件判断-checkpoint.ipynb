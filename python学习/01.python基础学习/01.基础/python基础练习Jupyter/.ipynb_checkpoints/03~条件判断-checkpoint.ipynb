{
 "cells": [
  {
   "cell_type": "markdown",
   "id": "d47ee83d-f99f-410c-b6b7-142fa88922ff",
   "metadata": {},
   "source": [
    "# 条件判断"
   ]
  },
  {
   "cell_type": "markdown",
   "id": "2e18765e-d38b-4589-b8b3-83167c55a4ea",
   "metadata": {},
   "source": [
    "## 单向判断if"
   ]
  },
  {
   "cell_type": "markdown",
   "id": "eb893875-b5bf-4034-9adc-967b24f65dd7",
   "metadata": {},
   "source": [
    "举例：如果一个人的成绩大于或等于60分，他就及格了。"
   ]
  },
  {
   "cell_type": "code",
   "execution_count": 1,
   "id": "40017069-d611-4ee1-aef3-6a680877eb62",
   "metadata": {},
   "outputs": [
    {
     "name": "stdout",
     "output_type": "stream",
     "text": [
      "你及格了！\n"
     ]
    }
   ],
   "source": [
    "score = 60\n",
    "\n",
    "if score >= 60:\n",
    "    print('你及格了！')\n"
   ]
  },
  {
   "cell_type": "markdown",
   "id": "2a1b5941-f863-4aeb-9d70-45d90c7154b6",
   "metadata": {},
   "source": [
    "## 双向判断：if…else…"
   ]
  },
  {
   "cell_type": "markdown",
   "id": "bba65c4c-9158-48f2-b2ba-c61fb0442f34",
   "metadata": {},
   "source": [
    "举例：成绩大于或等于60分，显示及格；小于60分显示不及格。"
   ]
  },
  {
   "cell_type": "code",
   "execution_count": 2,
   "id": "9441096b-8ade-4b94-b413-63297d43a2dc",
   "metadata": {},
   "outputs": [
    {
     "name": "stdout",
     "output_type": "stream",
     "text": [
      "你不及格\n"
     ]
    }
   ],
   "source": [
    "score = 40\n",
    "\n",
    "if score >= 60:\n",
    "    print('你及格了！')\n",
    "else:\n",
    "    print('你不及格')\n"
   ]
  },
  {
   "cell_type": "markdown",
   "id": "c98b6feb-5dc9-4f1f-a7cc-503ab1547cb1",
   "metadata": {},
   "source": [
    "## 多向判断：if…elif…else…"
   ]
  },
  {
   "cell_type": "code",
   "execution_count": 3,
   "id": "b137c91f-70ac-43aa-af29-2f80d5e89989",
   "metadata": {},
   "outputs": [
    {
     "name": "stdout",
     "output_type": "stream",
     "text": [
      "你是学霸\n"
     ]
    }
   ],
   "source": [
    "score = 80\n",
    "\n",
    "if 80 <= score < 100:\n",
    "    print('你是学霸')\n",
    "elif 0 <= score < 60:\n",
    "    print('你不及格')\n",
    "else:\n",
    "    print('你及格了！')\n"
   ]
  },
  {
   "cell_type": "markdown",
   "id": "45b9b68e-9af9-4bfb-853b-97b55f8876b8",
   "metadata": {},
   "source": [
    "## if的嵌套"
   ]
  },
  {
   "cell_type": "code",
   "execution_count": 4,
   "id": "e9f2da88-080d-4295-bb05-0b9420de0010",
   "metadata": {},
   "outputs": [
    {
     "name": "stdout",
     "output_type": "stream",
     "text": [
      "你不及格\n"
     ]
    }
   ],
   "source": [
    "score = 55\n",
    "\n",
    "if score >= 60:\n",
    "    print('你及格了')\n",
    "    if score >= 80:\n",
    "        print('你是学霸')\n",
    "    else:\n",
    "        print('你成绩一般')\n",
    "else:\n",
    "    print('你不及格')\n"
   ]
  },
  {
   "cell_type": "code",
   "execution_count": 5,
   "id": "9839d616-bd11-472f-a554-2ba1cab6a62a",
   "metadata": {},
   "outputs": [
    {
     "name": "stdout",
     "output_type": "stream",
     "text": [
      "你不及格\n",
      "你就是个学渣，没救了\n"
     ]
    }
   ],
   "source": [
    "score = 25\n",
    "\n",
    "if score >= 60:\n",
    "    print('你及格了')\n",
    "    if score >= 80:\n",
    "        print('你是学霸')\n",
    "    else:\n",
    "        print('你成绩一般')\n",
    "else:\n",
    "    print('你不及格')\n",
    "    if score < 30:\n",
    "        print('你就是个学渣，没救了')\n",
    "    else:\n",
    "        print('不算太糟糕，还能拯救')\n"
   ]
  }
 ],
 "metadata": {
  "kernelspec": {
   "display_name": "Python 3 (ipykernel)",
   "language": "python",
   "name": "python3"
  },
  "language_info": {
   "codemirror_mode": {
    "name": "ipython",
    "version": 3
   },
   "file_extension": ".py",
   "mimetype": "text/x-python",
   "name": "python",
   "nbconvert_exporter": "python",
   "pygments_lexer": "ipython3",
   "version": "3.12.3"
  }
 },
 "nbformat": 4,
 "nbformat_minor": 5
}
