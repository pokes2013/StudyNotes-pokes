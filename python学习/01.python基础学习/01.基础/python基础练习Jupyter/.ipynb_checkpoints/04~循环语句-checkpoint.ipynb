{
 "cells": [
  {
   "cell_type": "markdown",
   "id": "a7a3e344",
   "metadata": {},
   "source": [
    "## for循环"
   ]
  },
  {
   "cell_type": "markdown",
   "id": "bdbf8ce1-2b99-43ce-a891-a2abf86e38b3",
   "metadata": {},
   "source": [
    "打印出1-9每个数字，（1,10）包前不包后1-9，不包含10"
   ]
  },
  {
   "cell_type": "code",
   "execution_count": null,
   "id": "d55b58d3",
   "metadata": {
    "scrolled": true
   },
   "outputs": [],
   "source": [
    "for i in range(1,10):\n",
    "    print(i)"
   ]
  },
  {
   "cell_type": "code",
   "execution_count": null,
   "id": "511d7e70",
   "metadata": {
    "scrolled": true
   },
   "outputs": [],
   "source": [
    "for ch in 'python':\n",
    "    print(ch)"
   ]
  },
  {
   "cell_type": "markdown",
   "id": "af64638c",
   "metadata": {},
   "source": [
    "## while循环"
   ]
  },
  {
   "cell_type": "markdown",
   "id": "2e7cd0e8",
   "metadata": {},
   "source": [
    "实例：打印1-5的数字？"
   ]
  },
  {
   "cell_type": "code",
   "execution_count": null,
   "id": "cc834064",
   "metadata": {},
   "outputs": [],
   "source": [
    "a=1\n",
    "while a<=5:\n",
    "    print(a)\n",
    "    a=a+1"
   ]
  },
  {
   "cell_type": "markdown",
   "id": "8f06b515-e2a8-4678-9531-ca422512d1b5",
   "metadata": {},
   "source": [
    "打印出1-20内能被3整除的数字"
   ]
  },
  {
   "cell_type": "code",
   "execution_count": 1,
   "id": "09e360c4-6f41-483b-9f6e-da6681f54c16",
   "metadata": {},
   "outputs": [
    {
     "name": "stdout",
     "output_type": "stream",
     "text": [
      "3\n",
      "6\n",
      "9\n",
      "12\n",
      "15\n",
      "18\n"
     ]
    }
   ],
   "source": [
    "#方法1\n",
    "a = 1\n",
    "while a <=20 :\n",
    "    if a%3==0:\n",
    "        print(a)\n",
    "    a+=1"
   ]
  },
  {
   "cell_type": "code",
   "execution_count": 2,
   "id": "c5c945ef-510a-4b84-a131-3aa5a985fca9",
   "metadata": {},
   "outputs": [
    {
     "name": "stdout",
     "output_type": "stream",
     "text": [
      "3\n",
      "6\n",
      "9\n",
      "12\n",
      "15\n",
      "18\n"
     ]
    }
   ],
   "source": [
    "#方法2\n",
    "a = 3\n",
    "while a < 20:\n",
    "    print(a)\n",
    "    a=a+3"
   ]
  },
  {
   "cell_type": "code",
   "execution_count": 3,
   "id": "ee058b55-0530-4472-85ec-c7216611b6b9",
   "metadata": {},
   "outputs": [
    {
     "name": "stdout",
     "output_type": "stream",
     "text": [
      "15\n",
      "30\n"
     ]
    }
   ],
   "source": [
    "#打印出1-30内，既能被3整除，又能被5整除的数\n",
    "\n",
    "a = 1\n",
    "while a <=30 :\n",
    "    if a%3==0 and a%5==0:\n",
    "        print(a)\n",
    "    a+=1\n",
    "\n",
    "#注意：这里a+=1是和if对齐的"
   ]
  }
 ],
 "metadata": {
  "kernelspec": {
   "display_name": "Python 3 (ipykernel)",
   "language": "python",
   "name": "python3"
  },
  "language_info": {
   "codemirror_mode": {
    "name": "ipython",
    "version": 3
   },
   "file_extension": ".py",
   "mimetype": "text/x-python",
   "name": "python",
   "nbconvert_exporter": "python",
   "pygments_lexer": "ipython3",
   "version": "3.12.4"
  }
 },
 "nbformat": 4,
 "nbformat_minor": 5
}
