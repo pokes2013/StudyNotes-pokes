{
 "cells": [
  {
   "cell_type": "markdown",
   "id": "cf81acff-6a7b-44be-b614-6078aca4f30e",
   "metadata": {},
   "source": [
    "## break与continue的区别\n",
    "详情可查看：https://blog.csdn.net/qq_48374573/article/details/117231318"
   ]
  },
  {
   "cell_type": "markdown",
   "id": "47759a23-cf40-4c7f-b4f6-05d78be59302",
   "metadata": {},
   "source": [
    "## break"
   ]
  },
  {
   "cell_type": "markdown",
   "id": "123f0fc7-1096-435c-825f-6dfd16475ed3",
   "metadata": {},
   "source": [
    "break用于跳出一个循环体或者完全结束一个循环，不仅可以结束其所在的循环，还可结束其外层循环。"
   ]
  },
  {
   "cell_type": "code",
   "execution_count": 1,
   "id": "4ca8b052-6069-4a89-a803-eff36f2a7bbd",
   "metadata": {},
   "outputs": [
    {
     "name": "stdin",
     "output_type": "stream",
     "text": [
      "你的腿怎么样？还能坚持吗？ y\n"
     ]
    },
    {
     "name": "stdout",
     "output_type": "stream",
     "text": [
      "加油\n"
     ]
    },
    {
     "name": "stdin",
     "output_type": "stream",
     "text": [
      "你的腿怎么样？还能坚持吗？ y\n"
     ]
    },
    {
     "name": "stdout",
     "output_type": "stream",
     "text": [
      "加油\n"
     ]
    },
    {
     "name": "stdin",
     "output_type": "stream",
     "text": [
      "你的腿怎么样？还能坚持吗？ y\n"
     ]
    },
    {
     "name": "stdout",
     "output_type": "stream",
     "text": [
      "加油\n"
     ]
    },
    {
     "name": "stdin",
     "output_type": "stream",
     "text": [
      "你的腿怎么样？还能坚持吗？ y\n"
     ]
    },
    {
     "name": "stdout",
     "output_type": "stream",
     "text": [
      "加油\n"
     ]
    },
    {
     "name": "stdin",
     "output_type": "stream",
     "text": [
      "你的腿怎么样？还能坚持吗？ y\n"
     ]
    },
    {
     "name": "stdout",
     "output_type": "stream",
     "text": [
      "加油\n"
     ]
    },
    {
     "name": "stdin",
     "output_type": "stream",
     "text": [
      "你的腿怎么样？还能坚持吗？ y\n"
     ]
    },
    {
     "name": "stdout",
     "output_type": "stream",
     "text": [
      "加油\n"
     ]
    },
    {
     "name": "stdin",
     "output_type": "stream",
     "text": [
      "你的腿怎么样？还能坚持吗？ n\n"
     ]
    },
    {
     "name": "stdout",
     "output_type": "stream",
     "text": [
      "不能，退赛\n"
     ]
    }
   ],
   "source": [
    "while True:    #True无条件放行\n",
    "    answer=input('你的腿怎么样？还能坚持吗？')\n",
    "    if answer=='y':\n",
    "        print('加油')\n",
    "    else:\n",
    "        print('不能，退赛')\n",
    "        break                    #终止"
   ]
  },
  {
   "cell_type": "markdown",
   "id": "abce281c-519f-437c-bf25-a6fc61691aed",
   "metadata": {},
   "source": [
    "## continue"
   ]
  },
  {
   "cell_type": "markdown",
   "id": "1312058b-4ea5-445e-aa07-2171ce679546",
   "metadata": {},
   "source": [
    "continue语句的作用是跳过本次循环体中剩下尚未执行的语句，立即进行下一次的循环条件判定，可以理解为只是中止(跳过)本次循环，接着开始下一次循环。\n",
    "\n",
    "- continue语句并没有使整个循环终止。\n",
    "- continue 只能在循环语句中使用，即只能在 for、while 和 do…while 语句中使用。"
   ]
  },
  {
   "cell_type": "code",
   "execution_count": 2,
   "id": "e0de97ec-65e9-44ff-aa3e-621be5d9c83a",
   "metadata": {},
   "outputs": [
    {
     "name": "stdin",
     "output_type": "stream",
     "text": [
      "能跑吗？ y\n",
      "能跑吗？ y\n",
      "能跑吗？ y\n",
      "能跑吗？ y\n",
      "能跑吗？ y\n",
      "能跑吗？ n\n",
      "能跑吗？ n\n",
      "能跑吗？ n\n",
      "能跑吗？ n\n",
      "能跑吗？ n\n"
     ]
    },
    {
     "name": "stdout",
     "output_type": "stream",
     "text": [
      "一共跑了 5 圈\n"
     ]
    }
   ],
   "source": [
    "circle=0\n",
    "for i in range(1,11):\n",
    "    answer=input('能跑吗？')\n",
    "    if answer!='y':               #取反，不等于y\n",
    "        continue                  #continue语句只结束本次循环,而不是终止整个循环的执行\n",
    "    circle+=1\n",
    "print('一共跑了',circle,'圈')"
   ]
  },
  {
   "cell_type": "code",
   "execution_count": null,
   "id": "91bb7664-f384-4994-b648-06bb2eefc77e",
   "metadata": {},
   "outputs": [],
   "source": []
  }
 ],
 "metadata": {
  "kernelspec": {
   "display_name": "Python 3 (ipykernel)",
   "language": "python",
   "name": "python3"
  },
  "language_info": {
   "codemirror_mode": {
    "name": "ipython",
    "version": 3
   },
   "file_extension": ".py",
   "mimetype": "text/x-python",
   "name": "python",
   "nbconvert_exporter": "python",
   "pygments_lexer": "ipython3",
   "version": "3.12.3"
  }
 },
 "nbformat": 4,
 "nbformat_minor": 5
}
