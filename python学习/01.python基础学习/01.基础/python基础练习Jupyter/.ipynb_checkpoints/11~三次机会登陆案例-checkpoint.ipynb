{
 "cells": [
  {
   "cell_type": "markdown",
   "id": "fd6b97e1-0a62-4eb4-931f-9cce9b8aaea4",
   "metadata": {},
   "source": [
    "# 三次机会登陆案例            "
   ]
  },
  {
   "cell_type": "markdown",
   "id": "947773d4-94a8-417c-8019-694b750fa406",
   "metadata": {},
   "source": [
    "定义一个登陆函数，参数是：username,password\n",
    "\n",
    "函数体：判断参数传过来得username,password是否正确，如果正确则登陆成功，否则打印登陆失败。"
   ]
  },
  {
   "cell_type": "code",
   "execution_count": null,
   "id": "cba053ac-74aa-4602-9fd1-379814432081",
   "metadata": {},
   "outputs": [],
   "source": [
    "def login(username,password):\n",
    "    uname='admin123'\n",
    "    pwd='112233'\n",
    "\n",
    "    for i in range(2):\n",
    "        if username == uname and password == pwd:\n",
    "            print('登陆成功！')\n",
    "            break\n",
    "        else:\n",
    "            username = input('请重新输入用户名：')\n",
    "            password = input('输入密码：')\n",
    "    else:\n",
    "        print('账户已锁定，请稍后再试')\n",
    "\n",
    "\n",
    "\n",
    "print('提示：你只有三次机会,密码输入错误超过3次,将锁定账户')\n",
    "username = input('输入用户名：')\n",
    "password = input('输入密码：')\n",
    "login(username,password)"
   ]
  }
 ],
 "metadata": {
  "kernelspec": {
   "display_name": "Python 3 (ipykernel)",
   "language": "python",
   "name": "python3"
  },
  "language_info": {
   "codemirror_mode": {
    "name": "ipython",
    "version": 3
   },
   "file_extension": ".py",
   "mimetype": "text/x-python",
   "name": "python",
   "nbconvert_exporter": "python",
   "pygments_lexer": "ipython3",
   "version": "3.12.3"
  }
 },
 "nbformat": 4,
 "nbformat_minor": 5
}
