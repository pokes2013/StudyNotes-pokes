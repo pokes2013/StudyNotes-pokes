{
 "cells": [
  {
   "cell_type": "markdown",
   "id": "1e0923b0-3dd4-4b9f-a4e0-095cfcf1bd37",
   "metadata": {},
   "source": [
    "# 装饰器"
   ]
  },
  {
   "cell_type": "markdown",
   "id": "3445d7a3-ba7f-4654-b065-365c0251ffff",
   "metadata": {},
   "source": [
    "## 装饰器介绍"
   ]
  },
  {
   "cell_type": "markdown",
   "id": "aa4a7beb-be0a-4692-8a7b-82b769f1d7b1",
   "metadata": {},
   "source": [
    "Python装饰器是一种特殊类型的函数，它可以修改或增强其他函数的功能，而无需更改原始函数的源代码。"
   ]
  },
  {
   "cell_type": "markdown",
   "id": "cc5ed552-54fc-4fea-9046-8241ea8c4954",
   "metadata": {},
   "source": [
    "装饰器本质上是一个接收函数作为参数的函数，它返回一个新的函数或者修改过的原函数，通常用于插入日志、性能测试、权限校验、缓存、事务处理等场景。"
   ]
  },
  {
   "cell_type": "markdown",
   "id": "e828634c-d982-4ea2-bdc9-0b7c0f812fc8",
   "metadata": {},
   "source": [
    "问题引入\n",
    "我现在有一个数字求和函数："
   ]
  },
  {
   "cell_type": "code",
   "execution_count": 1,
   "id": "5b6357b1-9306-4830-b3da-44f56b4ed0ed",
   "metadata": {},
   "outputs": [
    {
     "name": "stdout",
     "output_type": "stream",
     "text": [
      "9\n"
     ]
    },
    {
     "data": {
      "text/plain": [
       "9"
      ]
     },
     "execution_count": 1,
     "metadata": {},
     "output_type": "execute_result"
    }
   ],
   "source": [
    "def number_sum(a, b):\n",
    "    sum = a + b\n",
    "    print(sum)\n",
    "    return sum\n",
    "\n",
    "number_sum(4,5)"
   ]
  },
  {
   "cell_type": "markdown",
   "id": "6c0b8a33-8b81-48d5-be25-84f5e118f793",
   "metadata": {},
   "source": [
    "问题：给这个函数添加上性能测试的功能（即检测函数运行所耗的时间）但是不允许更改原函数的代码？"
   ]
  },
  {
   "cell_type": "markdown",
   "id": "5a7f13e2-2068-4f0e-9361-12c02abc4af3",
   "metadata": {},
   "source": [
    "## 问题分析"
   ]
  },
  {
   "cell_type": "markdown",
   "id": "1f262166-3b37-4071-9740-a8fb9138b364",
   "metadata": {},
   "source": [
    "检测程序运行时间，一般是这样的："
   ]
  },
  {
   "cell_type": "code",
   "execution_count": null,
   "id": "0418d508-207a-442c-b0bb-f6c197da3661",
   "metadata": {},
   "outputs": [],
   "source": [
    "import time  \n",
    "def jiance()\n",
    "\tstart = time.time() \n",
    "    函数体                     \n",
    "    end = time.time() \n",
    "\tprint(\"所耗时间：\", end - start,\"秒\")\n"
   ]
  },
  {
   "cell_type": "markdown",
   "id": "68f6af76-90c3-4d45-aab3-d0e9e97279aa",
   "metadata": {},
   "source": [
    "## 解决问题"
   ]
  },
  {
   "cell_type": "markdown",
   "id": "b9df5d26-9c92-4b3e-bf59-70c022c7aee1",
   "metadata": {},
   "source": [
    "没学装饰器和语法糖之前，你是这么写得："
   ]
  },
  {
   "cell_type": "code",
   "execution_count": 5,
   "id": "720c081c-9963-4378-ab55-46fe420aa047",
   "metadata": {},
   "outputs": [
    {
     "name": "stdout",
     "output_type": "stream",
     "text": [
      "11\n",
      "结果为： 11\n",
      "所耗时间： 2.0010926723480225 秒\n"
     ]
    }
   ],
   "source": [
    "import time                             \n",
    "\n",
    "def number_sum(a, b):                             \n",
    "    sum = a + b                             \n",
    "    print(sum)                             \n",
    "    return sum                             \n",
    "\n",
    "def time_js(a, b):                             \n",
    "    start = time.time()                             \n",
    "    r = number_sum(a, b)                             \n",
    "    time.sleep(2)            #因为太快了！为了能看到效果，这里睡觉2秒                       \n",
    "    print(\"结果为：\",r)                             \n",
    "    end = time.time()                             \n",
    "    print(\"所耗时间：\", end - start,\"秒\")                             \n",
    "\n",
    "time_js(5,6)                             \n"
   ]
  },
  {
   "cell_type": "markdown",
   "id": "ad76e1e5-648d-4db9-9e6c-a6e69bf34e2d",
   "metadata": {},
   "source": [
    "优点：满足要求。\n",
    "缺点：不能复用"
   ]
  },
  {
   "cell_type": "markdown",
   "id": "1de6490a-e58e-4229-8d32-ef8573f486f9",
   "metadata": {},
   "source": [
    "当你学了装饰器和语法糖之后是这样写得："
   ]
  },
  {
   "cell_type": "code",
   "execution_count": 6,
   "id": "d8b779d0-6172-4706-946f-1aaf66ba45cb",
   "metadata": {},
   "outputs": [
    {
     "name": "stdout",
     "output_type": "stream",
     "text": [
      "9\n",
      "所耗时间： 2.0006308555603027 秒\n"
     ]
    }
   ],
   "source": [
    "import time\n",
    "\n",
    "def jiance(jc_time):\n",
    "    def wrapper(a,b):\n",
    "        start = time.time()\n",
    "        result = jc_time(a,b)\n",
    "        time.sleep(2)    #因为太快了！为了能看到效果，这里睡觉2秒\n",
    "        end = time.time()\n",
    "        print(\"所耗时间：\", end - start,\"秒\")\n",
    "        return result\n",
    "    return wrapper\n",
    "\n",
    "@jiance\n",
    "def number_sum(a, b):\n",
    "    sum = a + b\n",
    "    print(sum)\n",
    "    return sum\n",
    "\n",
    "ss = number_sum(4,5)\n"
   ]
  },
  {
   "cell_type": "markdown",
   "id": "b694e0a7-1bb8-4c02-92ed-b14ae267465c",
   "metadata": {},
   "source": [
    "优点：满足要求。缺点：只能在相同两个参数数量的情况下复用"
   ]
  },
  {
   "cell_type": "markdown",
   "id": "197b1e92-ec25-4b61-b725-6a2c22110cd2",
   "metadata": {},
   "source": [
    "## 继续改进"
   ]
  },
  {
   "cell_type": "markdown",
   "id": "7fb5c626-c929-4978-a3b3-ca319422875a",
   "metadata": {},
   "source": [
    "我们将变量换成*args"
   ]
  },
  {
   "cell_type": "code",
   "execution_count": 7,
   "id": "64f06450-3b0b-4cf3-ba45-25c55fe26fb3",
   "metadata": {},
   "outputs": [
    {
     "name": "stdout",
     "output_type": "stream",
     "text": [
      "9\n",
      "所耗时间： 2.001399278640747 秒\n",
      "15\n",
      "所耗时间： 2.0012617111206055 秒\n"
     ]
    }
   ],
   "source": [
    "import time\n",
    "\n",
    "def jiance(jc_time):\n",
    "    def wrapper(*args):\n",
    "        start = time.time()\n",
    "        result = jc_time(*args)\n",
    "        time.sleep(2)\n",
    "        end = time.time()\n",
    "        print(\"所耗时间：\", end - start, \"秒\")\n",
    "        return result\n",
    "\n",
    "    return wrapper\n",
    "\n",
    "\n",
    "@jiance\n",
    "def number_sum2(a, b):\n",
    "    sum = a + b\n",
    "    print(sum)\n",
    "    return sum\n",
    "\n",
    "\n",
    "@jiance\n",
    "def number_sum3(a, b, c):\n",
    "    sum = a + b + c\n",
    "    print(sum)\n",
    "    return sum\n",
    "\n",
    "\n",
    "ss = number_sum2(4, 5)\n",
    "ss = number_sum3(4, 5, 6)\n"
   ]
  },
  {
   "cell_type": "markdown",
   "id": "1209049d-c61b-4a52-b252-32fbdd989493",
   "metadata": {},
   "source": [
    "优点：满足要求，可以复用"
   ]
  },
  {
   "cell_type": "markdown",
   "id": "b349b674-9cc3-4520-894c-a8a6eaa4d39d",
   "metadata": {},
   "source": [
    "## 装饰器在类中得使用"
   ]
  },
  {
   "cell_type": "code",
   "execution_count": 1,
   "id": "e85ed92c-d864-4d3b-b0c3-18e8fa43b37e",
   "metadata": {},
   "outputs": [
    {
     "name": "stdout",
     "output_type": "stream",
     "text": [
      "总分为270\n",
      "平均分为：90.0\n",
      "学生姓名为：wiwiyixiao，年龄为：21，性别为：女，英语成绩为：80，数学成绩为：90，语文成绩为：100\n"
     ]
    }
   ],
   "source": [
    "class Students():\n",
    "    def __init__(self, name, num, sex, e_score, m_score, c_score):\n",
    "        self.name = name\n",
    "        self.num = num\n",
    "        self.sex = sex\n",
    "        self.e_score = e_score\n",
    "        self.m_score = m_score\n",
    "        self.c_score = c_score\n",
    "\n",
    "    def Average(fun_name):\n",
    "        def wrapper(*args, **kwargs):\n",
    "            print(\"平均分为：{}\".format(fun_name(*args, **kwargs)/3))\n",
    "        return wrapper\n",
    "\n",
    "\n",
    "    @Average\n",
    "    def AllScore(self):\n",
    "        s = self.e_score + self.m_score + self.c_score\n",
    "        print(\"总分为{}\".format(s))\n",
    "        return s\n",
    "\n",
    "\n",
    "    def message(self):\n",
    "        print(\"学生姓名为：{}，年龄为：{}，性别为：{}，英语成绩为：{}，数学成绩为：{}，语文成绩为：{}\".format(self.name, self.num, self.sex, self.e_score, self.m_score, self.c_score))\n",
    "\n",
    "if __name__ == \"__main__\":\n",
    "    s = Students(\"wiwiyixiao\", \"21\", \"女\", 80, 90, 100)\n",
    "    s.AllScore()\n",
    "    # s.Average()\n",
    "    s.message()"
   ]
  }
 ],
 "metadata": {
  "kernelspec": {
   "display_name": "Python 3 (ipykernel)",
   "language": "python",
   "name": "python3"
  },
  "language_info": {
   "codemirror_mode": {
    "name": "ipython",
    "version": 3
   },
   "file_extension": ".py",
   "mimetype": "text/x-python",
   "name": "python",
   "nbconvert_exporter": "python",
   "pygments_lexer": "ipython3",
   "version": "3.9.19"
  }
 },
 "nbformat": 4,
 "nbformat_minor": 5
}
