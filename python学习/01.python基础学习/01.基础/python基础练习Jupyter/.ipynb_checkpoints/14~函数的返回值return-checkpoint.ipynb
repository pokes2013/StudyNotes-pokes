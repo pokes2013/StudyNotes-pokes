{
 "cells": [
  {
   "cell_type": "markdown",
   "id": "17cab28a-b648-41df-b25f-2edb0c59496a",
   "metadata": {},
   "source": [
    "# 函数的返回值return"
   ]
  },
  {
   "cell_type": "code",
   "execution_count": 2,
   "id": "87d872a5-a633-47ce-ab58-78899a4dba61",
   "metadata": {},
   "outputs": [
    {
     "name": "stdout",
     "output_type": "stream",
     "text": [
      "(9, 'hello', 'python')\n",
      "9\n"
     ]
    }
   ],
   "source": [
    "def add(a,b):\n",
    "    s = a + b\n",
    "    return s,'hello','python'\n",
    "\n",
    "x = add(4,5)   \n",
    "print(x)\n",
    "\n",
    "ss= x[0]\n",
    "print(ss)"
   ]
  },
  {
   "cell_type": "markdown",
   "id": "7194ea02-6df8-4ad6-85da-ab9cfd2aa81e",
   "metadata": {},
   "source": [
    "- return后的语句不在执行\n",
    "- 返回值必须用变量接住\n",
    "- 返回值如果是多个，返回结果为元组"
   ]
  },
  {
   "cell_type": "markdown",
   "id": "b2edeba6-e142-4a6a-ae6a-5136c8ff1022",
   "metadata": {},
   "source": [
    "如果想在多个返回值中调用其中一个，可以使用切片"
   ]
  }
 ],
 "metadata": {
  "kernelspec": {
   "display_name": "Python 3 (ipykernel)",
   "language": "python",
   "name": "python3"
  },
  "language_info": {
   "codemirror_mode": {
    "name": "ipython",
    "version": 3
   },
   "file_extension": ".py",
   "mimetype": "text/x-python",
   "name": "python",
   "nbconvert_exporter": "python",
   "pygments_lexer": "ipython3",
   "version": "3.12.4"
  }
 },
 "nbformat": 4,
 "nbformat_minor": 5
}
