{
 "cells": [
  {
   "cell_type": "markdown",
   "id": "6b5ac14b-9a0e-4f30-97ef-97fb27fb80f1",
   "metadata": {},
   "source": [
    "# 数据类型"
   ]
  },
  {
   "cell_type": "markdown",
   "id": "d8af0d67-ad7f-419e-9bb5-48266b31ffde",
   "metadata": {},
   "source": [
    "## 字符串类型"
   ]
  },
  {
   "cell_type": "code",
   "execution_count": 3,
   "id": "f9822f28-5b59-4d76-8132-3bf26569a240",
   "metadata": {},
   "outputs": [
    {
     "name": "stdout",
     "output_type": "stream",
     "text": [
      "hello\n",
      "hello\n",
      "hello\n"
     ]
    }
   ],
   "source": [
    "a='hello'\n",
    "b=\"hello\"\n",
    "c='''hello'''\n",
    "print(a)\n",
    "print(b)\n",
    "print(c)"
   ]
  },
  {
   "cell_type": "markdown",
   "id": "96901b6b-b4d5-4418-88f2-4e0b4b3beeeb",
   "metadata": {},
   "source": [
    "## 整数类型"
   ]
  },
  {
   "cell_type": "code",
   "execution_count": 4,
   "id": "e8657df2-327b-480b-b533-5f99a93127c3",
   "metadata": {},
   "outputs": [
    {
     "name": "stdout",
     "output_type": "stream",
     "text": [
      "20\n"
     ]
    }
   ],
   "source": [
    "age=20\n",
    "print(age)"
   ]
  },
  {
   "cell_type": "markdown",
   "id": "9720b875-8651-486c-8292-aead9a4f71da",
   "metadata": {},
   "source": [
    "# 浮点型"
   ]
  },
  {
   "cell_type": "code",
   "execution_count": 5,
   "id": "846f7071-491a-4e02-b16d-885fb7ffa0b2",
   "metadata": {},
   "outputs": [
    {
     "name": "stdout",
     "output_type": "stream",
     "text": [
      "1.75\n"
     ]
    }
   ],
   "source": [
    "height=1.75\n",
    "print(height)"
   ]
  }
 ],
 "metadata": {
  "kernelspec": {
   "display_name": "Python 3 (ipykernel)",
   "language": "python",
   "name": "python3"
  },
  "language_info": {
   "codemirror_mode": {
    "name": "ipython",
    "version": 3
   },
   "file_extension": ".py",
   "mimetype": "text/x-python",
   "name": "python",
   "nbconvert_exporter": "python",
   "pygments_lexer": "ipython3",
   "version": "3.9.19"
  }
 },
 "nbformat": 4,
 "nbformat_minor": 5
}
