{
 "cells": [
  {
   "cell_type": "markdown",
   "id": "65d382b2",
   "metadata": {},
   "source": [
    "## 列表"
   ]
  },
  {
   "cell_type": "code",
   "execution_count": 23,
   "id": "e2b50654",
   "metadata": {},
   "outputs": [
    {
     "name": "stdout",
     "output_type": "stream",
     "text": [
      "[40, 41, 42, 43, 44]\n"
     ]
    }
   ],
   "source": [
    "###列表的打印\n",
    "\n",
    "list=[40,41,42,43,44]\n",
    "print(list)"
   ]
  },
  {
   "cell_type": "code",
   "execution_count": 24,
   "id": "bc7dd20b",
   "metadata": {},
   "outputs": [
    {
     "name": "stdout",
     "output_type": "stream",
     "text": [
      "41\n"
     ]
    }
   ],
   "source": [
    "###元素的获取\n",
    "list=[40,41,42,43,44]\n",
    "print(list[1])"
   ]
  },
  {
   "cell_type": "code",
   "execution_count": 25,
   "id": "9e778d98",
   "metadata": {},
   "outputs": [
    {
     "name": "stdout",
     "output_type": "stream",
     "text": [
      "[40, 41, 42, 43, 44, 100]\n"
     ]
    }
   ],
   "source": [
    "###元素的添加\n",
    "list=[40,41,42,43,44]\n",
    "list.append(100) \n",
    "print(list)"
   ]
  },
  {
   "cell_type": "code",
   "execution_count": 26,
   "id": "e81d1d45",
   "metadata": {},
   "outputs": [
    {
     "name": "stdout",
     "output_type": "stream",
     "text": [
      "[40, 410, 42, 43, 44]\n"
     ]
    }
   ],
   "source": [
    "###元素的修改或者替换\n",
    "list=[40,41,42,43,44]\n",
    "list[1]=410 \n",
    "print(list)"
   ]
  },
  {
   "cell_type": "code",
   "execution_count": 27,
   "id": "63e5f2df",
   "metadata": {},
   "outputs": [
    {
     "name": "stdout",
     "output_type": "stream",
     "text": [
      "[40, 41, 43, 44]\n"
     ]
    }
   ],
   "source": [
    "###元素的删除\n",
    "list=[40,41,42,43,44]\n",
    "list.remove(42)\n",
    "print(list)"
   ]
  },
  {
   "cell_type": "code",
   "execution_count": 28,
   "id": "af6866bc",
   "metadata": {
    "scrolled": true
   },
   "outputs": [
    {
     "name": "stdout",
     "output_type": "stream",
     "text": [
      "40\n",
      "41\n",
      "42\n",
      "43\n",
      "44\n"
     ]
    }
   ],
   "source": [
    "##遍历列表\n",
    "list=[40,41,42,43,44]\n",
    "for i in range(0,len(list)):\n",
    "    print(list[i])"
   ]
  },
  {
   "cell_type": "code",
   "execution_count": 29,
   "id": "58eee70f",
   "metadata": {},
   "outputs": [
    {
     "name": "stdout",
     "output_type": "stream",
     "text": [
      "40\n",
      "41\n",
      "42\n",
      "43\n",
      "44\n"
     ]
    }
   ],
   "source": [
    "##遍历列表\n",
    "\n",
    "list=[40,41,42,43,44]\n",
    "for item in list:\n",
    "    print(item)"
   ]
  },
  {
   "cell_type": "markdown",
   "id": "095bbfed",
   "metadata": {},
   "source": [
    "## 集合\n",
    "\n",
    "集合就好似离了婚得字典，它只有键，没有值。"
   ]
  },
  {
   "cell_type": "code",
   "execution_count": 30,
   "id": "5e85e117",
   "metadata": {},
   "outputs": [
    {
     "name": "stdout",
     "output_type": "stream",
     "text": [
      "{'42', '41', '43'}\n"
     ]
    }
   ],
   "source": [
    "s={'41','42','43'}\n",
    "print(s)\n",
    "\n",
    "# 注意：需要注意得是他是没有顺序得，不是说放在第一个就是1；"
   ]
  },
  {
   "cell_type": "code",
   "execution_count": 31,
   "id": "3531e028",
   "metadata": {},
   "outputs": [
    {
     "name": "stdout",
     "output_type": "stream",
     "text": [
      "{'42', '41', '43', '34'}\n"
     ]
    }
   ],
   "source": [
    "# 添加\n",
    "s={'41','42','43'}\n",
    "s.add('34')\n",
    "print(s)"
   ]
  },
  {
   "cell_type": "code",
   "execution_count": 32,
   "id": "15d9271f",
   "metadata": {},
   "outputs": [
    {
     "name": "stdout",
     "output_type": "stream",
     "text": [
      "{'42', '41'}\n"
     ]
    }
   ],
   "source": [
    "##删除\n",
    "s={'41','42','43'}\n",
    "s.remove('43')\n",
    "print(s)"
   ]
  },
  {
   "cell_type": "code",
   "execution_count": 33,
   "id": "df97b229",
   "metadata": {},
   "outputs": [
    {
     "name": "stdout",
     "output_type": "stream",
     "text": [
      "42\n",
      "41\n",
      "43\n"
     ]
    }
   ],
   "source": [
    "##集合遍历\n",
    "s={'41','42','43'}\n",
    "for item in s:\n",
    "    print(item)"
   ]
  },
  {
   "cell_type": "code",
   "execution_count": 2,
   "id": "cce42ade",
   "metadata": {},
   "outputs": [
    {
     "name": "stdout",
     "output_type": "stream",
     "text": [
      "41\n"
     ]
    }
   ],
   "source": [
    "# 获取里面单个得元素\n",
    "s = {'41', '42', '43'}\n",
    "list = list(s)  # 将集合转成列表,转换之后就有索引了\n",
    "print(list[0])  # 结果是随机得，因为他是无序得"
   ]
  },
  {
   "cell_type": "code",
   "execution_count": null,
   "id": "641579ee",
   "metadata": {},
   "outputs": [],
   "source": []
  }
 ],
 "metadata": {
  "kernelspec": {
   "display_name": "Python 3 (ipykernel)",
   "language": "python",
   "name": "python3"
  },
  "language_info": {
   "codemirror_mode": {
    "name": "ipython",
    "version": 3
   },
   "file_extension": ".py",
   "mimetype": "text/x-python",
   "name": "python",
   "nbconvert_exporter": "python",
   "pygments_lexer": "ipython3",
   "version": "3.9.19"
  }
 },
 "nbformat": 4,
 "nbformat_minor": 5
}
