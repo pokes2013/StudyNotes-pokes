{
 "cells": [
  {
   "cell_type": "markdown",
   "id": "ad0e1c89",
   "metadata": {},
   "source": [
    "## 由计算机提问而得到的任何回答都是字符串类型\n",
    "\n",
    "注意：input输入的数据类型都为字符串类型\n",
    "\n",
    "请看下面得实例："
   ]
  },
  {
   "cell_type": "markdown",
   "id": "08473072",
   "metadata": {},
   "source": [
    "### 实例1\n",
    "请输入你的年龄，姐姐比你大3岁，请问姐姐多少岁？"
   ]
  },
  {
   "cell_type": "code",
   "execution_count": 2,
   "id": "6ff2bfcf",
   "metadata": {},
   "outputs": [
    {
     "name": "stdout",
     "output_type": "stream",
     "text": [
      "你几岁了？10\n",
      "你今年10岁了\n",
      "age的类型： <class 'str'>\n",
      "你姐姐是: 13 岁\n"
     ]
    }
   ],
   "source": [
    "age=input('你几岁了？')\n",
    "print(\"你今年\"+age+\"岁了\")\n",
    "print(\"age的类型：\",type(age))\n",
    "\n",
    "jj_age=int(age)+3     #数据类型转换\n",
    "print(\"你姐姐是:\",jj_age,\"岁\")\n"
   ]
  },
  {
   "cell_type": "markdown",
   "id": "b0d5f3c6",
   "metadata": {},
   "source": [
    "### 实例2\n",
    "\n",
    "提款机实例：银行卡余额1000"
   ]
  },
  {
   "cell_type": "code",
   "execution_count": 9,
   "id": "83a27518",
   "metadata": {},
   "outputs": [
    {
     "name": "stdout",
     "output_type": "stream",
     "text": [
      "请输入取款金额：100\n",
      "取款成功,当前余额为：900\n"
     ]
    }
   ],
   "source": [
    "balance=1000    #银行卡余额\n",
    "money=input('请输入取款金额：')\n",
    "money=int(money)\n",
    "\n",
    "if money<=balance:\n",
    "    balance=balance-money\n",
    "    print('取款成功,当前余额为：'+str(balance))   #str(balance)将int类型转换str类型，不转无法拼接\n",
    "else:\n",
    "    print('操作失败，余额不足，当前余额为：'+str(balance))"
   ]
  },
  {
   "cell_type": "code",
   "execution_count": null,
   "id": "db1cdcf6",
   "metadata": {},
   "outputs": [],
   "source": []
  }
 ],
 "metadata": {
  "kernelspec": {
   "display_name": "Python 3 (ipykernel)",
   "language": "python",
   "name": "python3"
  },
  "language_info": {
   "codemirror_mode": {
    "name": "ipython",
    "version": 3
   },
   "file_extension": ".py",
   "mimetype": "text/x-python",
   "name": "python",
   "nbconvert_exporter": "python",
   "pygments_lexer": "ipython3",
   "version": "3.9.19"
  }
 },
 "nbformat": 4,
 "nbformat_minor": 5
}
