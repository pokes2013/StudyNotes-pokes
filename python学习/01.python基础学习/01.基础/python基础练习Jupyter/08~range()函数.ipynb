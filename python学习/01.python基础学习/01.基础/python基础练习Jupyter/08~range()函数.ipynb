{
 "cells": [
  {
   "cell_type": "markdown",
   "id": "90264bec-0cfa-440e-9ec8-b8907ad5ca11",
   "metadata": {},
   "source": [
    "# range函数的用法"
   ]
  },
  {
   "cell_type": "markdown",
   "id": "7b3c96c6-19c6-49fa-8f54-d660515f4058",
   "metadata": {},
   "source": [
    "使用系统给定 range() 完成范围指定。range()包前不包后。"
   ]
  },
  {
   "cell_type": "markdown",
   "id": "9dee0a81-e1d2-4aa5-af3d-95752ced88a3",
   "metadata": {},
   "source": [
    "## 方法1初次学习range"
   ]
  },
  {
   "cell_type": "markdown",
   "id": "10667414-8cf6-4b53-920a-dcab468a87b6",
   "metadata": {},
   "source": [
    "例如：range(8)   #意思就是0-7，不包含8的整数\n",
    "以下所有举例都以张飞吃馒头为例。"
   ]
  },
  {
   "cell_type": "code",
   "execution_count": 9,
   "id": "138d55e0-4f6b-4fb5-b12e-6eb25b6607c6",
   "metadata": {},
   "outputs": [
    {
     "name": "stdout",
     "output_type": "stream",
     "text": [
      "张飞喜欢吃馒头,正在吃第0个馒头\n",
      "张飞喜欢吃馒头,正在吃第1个馒头\n",
      "张飞喜欢吃馒头,正在吃第2个馒头\n",
      "张飞喜欢吃馒头,正在吃第3个馒头\n",
      "张飞喜欢吃馒头,正在吃第4个馒头\n",
      "张飞终于吃完了\n"
     ]
    }
   ],
   "source": [
    "name='张飞'\n",
    "for i in range(5):\n",
    "    print('{}喜欢吃馒头,正在吃第{}个馒头'.format(name,i))\n",
    "print('{}终于吃完了'.format(name))"
   ]
  },
  {
   "cell_type": "markdown",
   "id": "fc5b3e43-7fe8-4c62-9d95-409a66fbfd8a",
   "metadata": {},
   "source": [
    "上面还有个小问题，就是张飞会吃第0个馒头，所以我们在上面的基础上再次优化一下"
   ]
  },
  {
   "cell_type": "code",
   "execution_count": 10,
   "id": "434091e5-8f0b-4681-9921-6eb02b8516da",
   "metadata": {},
   "outputs": [
    {
     "name": "stdout",
     "output_type": "stream",
     "text": [
      "张飞喜欢吃馒头,正在吃第1个馒头\n",
      "张飞喜欢吃馒头,正在吃第2个馒头\n",
      "张飞喜欢吃馒头,正在吃第3个馒头\n",
      "张飞喜欢吃馒头,正在吃第4个馒头\n",
      "张飞喜欢吃馒头,正在吃第5个馒头\n",
      "张飞终于吃完了\n"
     ]
    }
   ],
   "source": [
    "name='张飞'\n",
    "for i in range(5):\n",
    "    print('{}喜欢吃馒头,正在吃第{}个馒头'.format(name,i+1))\n",
    "print('{}终于吃完了'.format(name))"
   ]
  },
  {
   "cell_type": "markdown",
   "id": "f855a84c-1ad5-43ad-9001-dabc1afef0f0",
   "metadata": {},
   "source": [
    "## 方法2：range指定起始值"
   ]
  },
  {
   "cell_type": "markdown",
   "id": "c695113d-c549-4ee5-9abe-367ffecb8f0f",
   "metadata": {},
   "source": [
    "range(1,6)    表示：指定起始值为1，范围为1-5"
   ]
  },
  {
   "cell_type": "code",
   "execution_count": 11,
   "id": "63192614-44c1-4c6b-8189-a0606664363e",
   "metadata": {},
   "outputs": [
    {
     "name": "stdout",
     "output_type": "stream",
     "text": [
      "张飞喜欢吃馒头,正在吃第1个馒头\n",
      "张飞喜欢吃馒头,正在吃第2个馒头\n",
      "张飞喜欢吃馒头,正在吃第3个馒头\n",
      "张飞喜欢吃馒头,正在吃第4个馒头\n",
      "张飞喜欢吃馒头,正在吃第5个馒头\n",
      "张飞终于吃完了\n"
     ]
    }
   ],
   "source": [
    "name='张飞'\n",
    "for i in range(1,6):\n",
    "    print('{}喜欢吃馒头,正在吃第{}个馒头'.format(name,i))\n",
    "print('{}终于吃完了'.format(name))"
   ]
  },
  {
   "cell_type": "markdown",
   "id": "7198253c-8d8a-4cfb-a0a7-af4c35cdc9a5",
   "metadata": {},
   "source": [
    "## 循环中嵌套判断"
   ]
  },
  {
   "cell_type": "markdown",
   "id": "e84e4e59-82c5-46ec-916e-0e471adc9d2c",
   "metadata": {},
   "source": [
    "要求：有5个馒头，但是第三个馒头有鹤顶红不能让他吃"
   ]
  },
  {
   "cell_type": "code",
   "execution_count": 12,
   "id": "441c9489-2b86-47e7-b5ea-03b8b014df4f",
   "metadata": {},
   "outputs": [
    {
     "name": "stdout",
     "output_type": "stream",
     "text": [
      "张飞喜欢吃馒头,正在吃第1个馒头\n",
      "张飞喜欢吃馒头,正在吃第2个馒头\n",
      "张飞赶快扔掉第3个馒头,第3个馒头有剧毒:鹤顶红!\n",
      "张飞喜欢吃馒头,正在吃第4个馒头\n",
      "张飞喜欢吃馒头,正在吃第5个馒头\n",
      "张飞终于吃完了\n"
     ]
    }
   ],
   "source": [
    "name='张飞'\n",
    "for i in range(1,6):\n",
    "    if i==3:\n",
    "        print('{}赶快扔掉第{}个馒头,第{}个馒头有剧毒:鹤顶红!'.format(name,i,i))\n",
    "    else:\n",
    "        print('{}喜欢吃馒头,正在吃第{}个馒头'.format(name,i))\n",
    "print('{}终于吃完了'.format(name))\n"
   ]
  },
  {
   "cell_type": "markdown",
   "id": "171fde20-813f-4010-9b6b-269c5aff4d8c",
   "metadata": {},
   "source": [
    "## 让用户自己输入循环次数"
   ]
  },
  {
   "cell_type": "code",
   "execution_count": 13,
   "id": "6a1fa32d-6c2b-4aca-990e-10e73d10dc8f",
   "metadata": {},
   "outputs": [
    {
     "name": "stdin",
     "output_type": "stream",
     "text": [
      "请输入需要的馒头数量: 10\n"
     ]
    },
    {
     "name": "stdout",
     "output_type": "stream",
     "text": [
      "张飞喜欢吃馒头,正在吃第1个馒头\n",
      "张飞喜欢吃馒头,正在吃第2个馒头\n",
      "张飞喜欢吃馒头,正在吃第3个馒头\n",
      "张飞喜欢吃馒头,正在吃第4个馒头\n",
      "张飞喜欢吃馒头,正在吃第5个馒头\n",
      "张飞喜欢吃馒头,正在吃第6个馒头\n",
      "张飞喜欢吃馒头,正在吃第7个馒头\n",
      "张飞喜欢吃馒头,正在吃第8个馒头\n",
      "张飞喜欢吃馒头,正在吃第9个馒头\n",
      "张飞喜欢吃馒头,正在吃第10个馒头\n",
      "没有馒头啦,张飞饿哭啦\n"
     ]
    }
   ],
   "source": [
    "name = '张飞'\n",
    "num = int(input('请输入需要的馒头数量:'))\n",
    "for i in range(num):\n",
    "    print('{}喜欢吃馒头,正在吃第{}个馒头'.format(name,i+1))\n",
    "else:\n",
    "    print('没有馒头啦,{}饿哭啦'.format(name))\n"
   ]
  },
  {
   "cell_type": "markdown",
   "id": "a408064c-fd2b-470e-a133-599063dc92e3",
   "metadata": {},
   "source": [
    "## 高级写法"
   ]
  },
  {
   "cell_type": "code",
   "execution_count": 14,
   "id": "1f218c1e-5099-47d6-882f-0bf3c5793bb8",
   "metadata": {},
   "outputs": [
    {
     "name": "stdout",
     "output_type": "stream",
     "text": [
      "[1, 2, 3, 4, 5]\n"
     ]
    }
   ],
   "source": [
    "info=[ab for ab in range(1,6)]\n",
    "print(info)"
   ]
  }
 ],
 "metadata": {
  "kernelspec": {
   "display_name": "Python 3 (ipykernel)",
   "language": "python",
   "name": "python3"
  },
  "language_info": {
   "codemirror_mode": {
    "name": "ipython",
    "version": 3
   },
   "file_extension": ".py",
   "mimetype": "text/x-python",
   "name": "python",
   "nbconvert_exporter": "python",
   "pygments_lexer": "ipython3",
   "version": "3.9.19"
  }
 },
 "nbformat": 4,
 "nbformat_minor": 5
}
