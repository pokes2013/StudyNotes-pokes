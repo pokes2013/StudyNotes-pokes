{
 "cells": [
  {
   "cell_type": "markdown",
   "id": "7d99f228-3e69-45b3-816e-8c6c53bcccbf",
   "metadata": {
    "editable": true,
    "slideshow": {
     "slide_type": ""
    },
    "tags": []
   },
   "source": [
    "# 匿名函数lambda"
   ]
  },
  {
   "cell_type": "markdown",
   "id": "eb995447-c180-4172-92a8-3e1e34a82620",
   "metadata": {},
   "source": [
    "- lambda 函数是一种匿名函数，即没有名字的函数\n",
    "- lambda 函数用于定义简单的、能够在一行内表示的函数\n",
    "- lambda 表达式” : “后面，只能有一个表达式，def 则可以有多个。\n",
    "- lambda 一般用来定义简单的函数，而 def 可以定义复杂的函数\n",
    "\n",
    "\n",
    "作用：简化函数定义\n",
    "\n",
    "格式：lambda 参数1，参数2...：运算"
   ]
  },
  {
   "cell_type": "markdown",
   "id": "85a50632-05b5-4354-ba0c-ff6b1c3dbad5",
   "metadata": {},
   "source": [
    "之前我们用def定义函数是这样的"
   ]
  },
  {
   "cell_type": "code",
   "execution_count": 3,
   "id": "a6a7b696-dd43-4745-bb03-8ac659d94be8",
   "metadata": {},
   "outputs": [
    {
     "name": "stdout",
     "output_type": "stream",
     "text": [
      "9\n"
     ]
    }
   ],
   "source": [
    "def add(a,b):\n",
    "    s = a + b\n",
    "    return s\n",
    "\n",
    "x = add(4,5)    #返回值让X接住\n",
    "print(x)"
   ]
  },
  {
   "cell_type": "markdown",
   "id": "a292a269-bec6-49c5-a7c0-bcda46e47627",
   "metadata": {},
   "source": [
    "## 匿名函数写法"
   ]
  },
  {
   "cell_type": "code",
   "execution_count": 4,
   "id": "671c898a-46af-4244-903e-3fe0ef0d7e39",
   "metadata": {},
   "outputs": [
    {
     "name": "stdout",
     "output_type": "stream",
     "text": [
      "3\n"
     ]
    }
   ],
   "source": [
    "s = lambda a, b: a + b\n",
    "\n",
    "result = s(1, 2)     #传参，并且用result接住返回值\n",
    "print(result)"
   ]
  },
  {
   "cell_type": "markdown",
   "id": "89d27828-9259-4483-8643-65458d63b1c4",
   "metadata": {},
   "source": [
    "总结：lambda函数是有返回值的，必须用变量接住；表达式只能有一个。"
   ]
  }
 ],
 "metadata": {
  "kernelspec": {
   "display_name": "Python 3 (ipykernel)",
   "language": "python",
   "name": "python3"
  },
  "language_info": {
   "codemirror_mode": {
    "name": "ipython",
    "version": 3
   },
   "file_extension": ".py",
   "mimetype": "text/x-python",
   "name": "python",
   "nbconvert_exporter": "python",
   "pygments_lexer": "ipython3",
   "version": "3.9.19"
  }
 },
 "nbformat": 4,
 "nbformat_minor": 5
}
