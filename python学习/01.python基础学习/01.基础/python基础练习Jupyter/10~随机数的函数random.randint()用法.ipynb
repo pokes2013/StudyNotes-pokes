{
 "cells": [
  {
   "cell_type": "markdown",
   "id": "69fecc4e-9367-4315-a2a5-23dd1f5eaa95",
   "metadata": {},
   "source": [
    "# 求随机数的函数random.randint()用法"
   ]
  },
  {
   "cell_type": "markdown",
   "id": "f640719d-fa54-4d05-ba78-d7fa6cc8ca2f",
   "metadata": {},
   "source": [
    "randint()函数是Python random模块中最常用的函数之一，它可以帮助您生成随机数字、随机密码和随机选择。在本文中，我们将探讨如何使用Python random模块中的randint()函数。如果您想生成一个随机密码，可以使用randint()函数来生成随机数字，并将其转换为字符串。如果您有一个列表，您可以使用randint()函数来随机选择一个列表中的元素"
   ]
  },
  {
   "cell_type": "markdown",
   "id": "f5e047ca-79f2-476f-b5f0-af1aefede0f9",
   "metadata": {},
   "source": [
    "random.randint(参数1，参数2)\n",
    "\n",
    "参数1、参数2必须是整数\n",
    "\n",
    "函数返回参数1和参数2之间的任意整数， 闭区间\n",
    "\n",
    "举例：返回 [1, 100] 之间的任意整数"
   ]
  },
  {
   "cell_type": "code",
   "execution_count": 5,
   "id": "937ccf33-8441-452b-95b3-e6ffe37d9f40",
   "metadata": {},
   "outputs": [
    {
     "name": "stdout",
     "output_type": "stream",
     "text": [
      "result:  80\n"
     ]
    }
   ],
   "source": [
    "import random\n",
    "result = random.randint(1,100) \n",
    "print(\"result: \",result)"
   ]
  }
 ],
 "metadata": {
  "kernelspec": {
   "display_name": "Python 3 (ipykernel)",
   "language": "python",
   "name": "python3"
  },
  "language_info": {
   "codemirror_mode": {
    "name": "ipython",
    "version": 3
   },
   "file_extension": ".py",
   "mimetype": "text/x-python",
   "name": "python",
   "nbconvert_exporter": "python",
   "pygments_lexer": "ipython3",
   "version": "3.9.19"
  }
 },
 "nbformat": 4,
 "nbformat_minor": 5
}
