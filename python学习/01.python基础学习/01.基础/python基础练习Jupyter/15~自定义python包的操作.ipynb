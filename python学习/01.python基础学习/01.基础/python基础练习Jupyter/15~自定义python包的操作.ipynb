{
 "cells": [
  {
   "cell_type": "markdown",
   "id": "db51cd68-fb8d-416d-b1cc-c4a8c6ae1b70",
   "metadata": {},
   "source": [
    "# 自定义python包的操作"
   ]
  },
  {
   "cell_type": "markdown",
   "id": "88200c3a-adb1-48e9-a4d8-212e52d077b2",
   "metadata": {},
   "source": [
    "- 1.  什么是Python的包？\n",
    "\n",
    "包就是一个文件夹，里面可以存放许多Python的模块 （代码文件），通过包，在逻辑上将一批模块归为一类，方便使用。\n",
    "\n",
    "- 2.  `_ init _ .py`文件的作用 ?\n",
    "\n",
    "创建包会默认自动创建的文件，通过这个文件来表示一个文件夹是Python的包，而非普通的文件夹。\n",
    "\n",
    "- 3.  `_all _`变量的作用?\n",
    "\n",
    "同模块中学习到的是一个作用，控制 import *能够导入的内容\n",
    "\n",
    "---"
   ]
  },
  {
   "cell_type": "markdown",
   "id": "2ec61cd6-1227-4f8c-ba30-2fe6e6dff0dd",
   "metadata": {},
   "source": [
    "## 包的创建"
   ]
  },
  {
   "cell_type": "markdown",
   "id": "f55e60e2-f6a4-493c-8105-49c839b9c276",
   "metadata": {},
   "source": [
    "我们在当前文件夹下新建一个python包，起名为pokes_video，这个时候会自动在这个pokes_video目录下生成一个__init__.py的文件，我们先不管他，我们再次目录下继续创建一个名为bianli_video.py的文件，里面写一个函数："
   ]
  },
  {
   "cell_type": "code",
   "execution_count": 2,
   "id": "1d62da2c-1ce8-4119-b6e1-0d03cb1d39e3",
   "metadata": {},
   "outputs": [
    {
     "name": "stdout",
     "output_type": "stream",
     "text": [
      "佛爷哥五杀.mp4\n",
      "佛爷哥五杀_edit-22fps.mp4\n",
      "佛爷哥五杀_edit.mp4\n",
      "金克斯五杀2.mp4\n",
      "金克斯五杀2_edit.mp4\n"
     ]
    }
   ],
   "source": [
    "import os\n",
    "\n",
    "\n",
    "def get_vlist(video_path):\n",
    "    \"\"\"\n",
    "    遍历目录下的视频文件，并且生成一个list\n",
    "    :param video_path:视频目录\n",
    "    :return: videos是生成的视频文件列表\n",
    "    \"\"\"\n",
    "    # 常见的视频文件扩展名\n",
    "    video_extensions = ['.mp4', '.avi', '.mkv', '.mov']\n",
    "\n",
    "    # 获取当前目录下的所有文件\n",
    "    current_directory_files = os.listdir(video_path)\n",
    "\n",
    "    # 新建空list,用于存放遍历结果\n",
    "    videos = []\n",
    "\n",
    "    # 遍历文件，找到视频文件\n",
    "    for file in current_directory_files:\n",
    "        extension = os.path.splitext(file)[1]  # 获取文件扩展名\n",
    "        if extension.lower() in video_extensions:\n",
    "            print(file)\n",
    "            videos.append(file)\n",
    "    return videos\n",
    "\n",
    "#下面得if主要是用于测试当前页的代码，当__name__等于当前页得时候才会运行\n",
    "if __name__ == '__main__':\n",
    "    get_vlist(r'E:\\Downloads')\n"
   ]
  },
  {
   "cell_type": "markdown",
   "id": "b8647ab9-4293-423c-9cc7-4d711d1cec8b",
   "metadata": {},
   "source": [
    "## 包的调用"
   ]
  },
  {
   "cell_type": "markdown",
   "id": "ce71d75b-c282-4398-9c46-d7cc936042ba",
   "metadata": {},
   "source": [
    "接下来我们在pokes_video包目录的上级目录，新建一个“测试包的调用.py”,内容如下："
   ]
  },
  {
   "cell_type": "code",
   "execution_count": null,
   "id": "d29a8fd4-63c8-4ce0-b7d4-41b52e2e0f84",
   "metadata": {},
   "outputs": [],
   "source": [
    "# 方法1：import 包.模块名\n",
    "\n",
    "import pokes_video.bianli_video\n",
    "getd_video.get_vlist(r'E:\\Downloads')\n",
    "\n",
    "\n",
    "### 方法2：from 包名 import 模块名\n",
    "from pokes_video import bianli_video\n",
    "getd_video.get_vlist(r'E:\\Downloads')\n"
   ]
  },
  {
   "cell_type": "markdown",
   "id": "f0308eff-6fe7-490d-acf6-d110fcc558e1",
   "metadata": {},
   "source": [
    "注释：pokes_video是包名，bianli_video是包内的文件名，get_vlist是包内文件的函数名\n",
    "\n",
    "运行结果和上面的一样：\n",
    "```\n",
    "佛爷哥五杀.mp4\n",
    "佛爷哥五杀_edit-22fps.mp4\n",
    "佛爷哥五杀_edit.mp4\n",
    "金克斯五杀2.mp4\n",
    "金克斯五杀2_edit.mp4\n",
    "```"
   ]
  },
  {
   "cell_type": "markdown",
   "id": "b3471fe0-1f3c-48d9-b424-d392a3322d51",
   "metadata": {},
   "source": [
    "## init文件编写"
   ]
  },
  {
   "cell_type": "markdown",
   "id": "cbbd7fe3-e154-4198-b7ee-892239eb8d9a",
   "metadata": {},
   "source": [
    "上面我们学习了包的调用，我们也可以这样调用，我们在__init__文件中编写：\n",
    "```\n",
    "__all__ = [\"bianli_video\"]\n",
    "```\n",
    "\n",
    "\n",
    "然后在其他文件中调用包\n",
    "```\n",
    "from pokes_video import *\n",
    "bianli_video.get_vlist()\n",
    "```\n",
    "\n",
    "注意：__all__只对星号起作用"
   ]
  },
  {
   "cell_type": "markdown",
   "id": "0490b81d-aeaf-475d-bf39-d1fd4285a1db",
   "metadata": {},
   "source": []
  },
  {
   "cell_type": "markdown",
   "id": "671e069d-77dd-4c63-a949-d6e005d3b1c9",
   "metadata": {},
   "source": []
  },
  {
   "cell_type": "code",
   "execution_count": null,
   "id": "912c9608-d42a-474e-83b0-6b83a16f8f7f",
   "metadata": {},
   "outputs": [],
   "source": []
  }
 ],
 "metadata": {
  "kernelspec": {
   "display_name": "Python 3 (ipykernel)",
   "language": "python",
   "name": "python3"
  },
  "language_info": {
   "codemirror_mode": {
    "name": "ipython",
    "version": 3
   },
   "file_extension": ".py",
   "mimetype": "text/x-python",
   "name": "python",
   "nbconvert_exporter": "python",
   "pygments_lexer": "ipython3",
   "version": "3.9.19"
  }
 },
 "nbformat": 4,
 "nbformat_minor": 5
}
